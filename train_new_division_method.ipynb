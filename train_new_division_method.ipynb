{
 "cells": [
  {
   "cell_type": "code",
   "execution_count": 12,
   "metadata": {},
   "outputs": [],
   "source": [
    "import numpy as np\n",
    "import matplotlib.pyplot as plt\n",
    "import torch\n",
    "import torch.nn.functional as F\n",
    "import torch.optim as optim\n",
    "device = torch.device(\"cuda:0\" if torch.cuda.is_available() else \"cpu\")"
   ]
  },
  {
   "cell_type": "code",
   "execution_count": 13,
   "metadata": {},
   "outputs": [],
   "source": [
    "def guiyi(*fea):\n",
    "    fea_matrix=np.array(fea[0])\n",
    "    for f in fea:\n",
    "        f=(f-f.min())/(f.max()-f.min()).reshape(-1,1)\n",
    "        fea_matrix = np.hstack((fea_matrix,f))\n",
    "    \n",
    "    return fea_matrix[:,1:]"
   ]
  },
  {
   "cell_type": "code",
   "execution_count": 27,
   "metadata": {
    "tags": []
   },
   "outputs": [
    {
     "name": "stdout",
     "output_type": "stream",
     "text": [
      "8549\n"
     ]
    }
   ],
   "source": [
    "from utils.feature_extraction import find_peak_trough,feature_extraction\n",
    "from os import listdir\n",
    "from sklearn.preprocessing import MinMaxScaler\n",
    "from utils.data_splitter import get_sequence\n",
    "from reciever import SEQ_LENGTH\n",
    "\n",
    "scaler = MinMaxScaler()\n",
    "file_list = listdir('data')\n",
    "m = len(file_list)\n",
    "\n",
    "train_features=np.empty([0,SEQ_LENGTH,6])\n",
    "train_labels=np.empty([0,1])\n",
    "test_features = np.empty([0, SEQ_LENGTH, 6])\n",
    "test_labels=np.empty([0,1])\n",
    "\n",
    "total_train_size=0\n",
    "\n",
    "for i in range(m):\n",
    "    if i % 3 == 1:\n",
    "        continue\n",
    "    file_name = './data/'+file_list[i]\n",
    "    data = np.loadtxt(file_name, dtype=np.int16, skiprows=1)\n",
    "\n",
    "    peaks, troughs = find_peak_trough(data, 54)\n",
    "    f1, f2, f3, f4, f5, f8, f9, f10 = feature_extraction(\n",
    "        data, peaks, troughs)\n",
    "\n",
    "    train_size=int(f1.shape[0]*0.7)\n",
    "    total_train_size+=train_size\n",
    "\n",
    "    label=np.full((f1.shape[0],1),int(i%3>0)).reshape(-1,1) #  label=np.full((f1.shape[0],1), i%3).reshape(-1,1)\n",
    "\n",
    "    # concated_matrix=np.hstack((f1,f3,f4,f5,f8,f9)) # 拼接起来的特征矩阵\n",
    "    # concated_matrix=scaler.fit_transform(concated_matrix) # 经过归一化\n",
    "\n",
    "    concated_matrix=guiyi(f1,f3,f4,f5,f8,f9) # 与上面两行同理\n",
    "\n",
    "    fea_lab_matrix= np.hstack((concated_matrix,label)) # 特征-标签矩阵\n",
    "    temporal_features , labels = get_sequence(data=fea_lab_matrix, seq_length=SEQ_LENGTH,device=device,to_device=False)\n",
    "    \n",
    "    train_features=np.vstack((train_features,temporal_features[:train_size]))\n",
    "    train_labels=np.vstack((train_labels,labels[:train_size]))\n",
    "\n",
    "    test_features=np.vstack((test_features,temporal_features[train_size:]))\n",
    "    test_labels=np.vstack((test_labels,labels[train_size:]))\n",
    "\n",
    "print(total_train_size)"
   ]
  },
  {
   "cell_type": "code",
   "execution_count": 28,
   "metadata": {},
   "outputs": [],
   "source": [
    "def analyze(labels,prediction,train_size,need_print=False):\n",
    "    total_size = labels.shape[0]\n",
    "    correct_prediction_in_train = sum(\n",
    "        prediction[0:train_size] == labels[0:train_size])  # 训练集上正确预测的样本数\n",
    "    correct_prediction_in_test = sum(\n",
    "        prediction[train_size:] == labels[train_size:])  # 测试集上正确预测的样本数\n",
    "    total_correct_prediction = correct_prediction_in_train + \\\n",
    "        correct_prediction_in_test  # 全体数据正确预测的样本数\n",
    "\n",
    "    total_accuracy=total_correct_prediction/total_size\n",
    "    train_accuracy=correct_prediction_in_train/train_size\n",
    "    test_accuracy=correct_prediction_in_test/(total_size-train_size)\n",
    "\n",
    "    if need_print:\n",
    "        print(\"%-5d / %-5d = %.3f\" % (total_correct_prediction, total_size, total_accuracy))\n",
    "        print(\"%-5d / %-5d = %.3f\" % (correct_prediction_in_train, train_size,train_accuracy ))\n",
    "        print(\"%-5d / %-5d = %.3f\" % (correct_prediction_in_test, total_size-train_size,test_accuracy ))\n",
    "\n",
    "    return total_accuracy,train_accuracy,test_accuracy"
   ]
  },
  {
   "cell_type": "code",
   "execution_count": 29,
   "metadata": {},
   "outputs": [],
   "source": [
    "train_features=torch.tensor(train_features).to(device).float()\n",
    "train_labels=torch.tensor(train_labels).to(device)\n",
    "test_features = torch.tensor(test_features).to(device).float()\n",
    "test_labels=torch.tensor(test_labels).to(device)\n",
    "total_features=torch.vstack((train_features,test_features))\n",
    "total_labels=torch.vstack((train_labels,test_labels))"
   ]
  },
  {
   "cell_type": "code",
   "execution_count": 30,
   "metadata": {},
   "outputs": [
    {
     "name": "stdout",
     "output_type": "stream",
     "text": [
      "Epoch :   100 | loss : 0.69134 | total_acc : 0.51161 | train_acc : 0.51140 | test_acc : 0.51212\n",
      "Epoch :   200 | loss : 0.60400 | total_acc : 0.69100 | train_acc : 0.69973 | test_acc : 0.66995\n",
      "Epoch :   300 | loss : 0.57422 | total_acc : 0.72555 | train_acc : 0.73588 | test_acc : 0.70068\n",
      "Epoch :   400 | loss : 0.54628 | total_acc : 0.75829 | train_acc : 0.76933 | test_acc : 0.73168\n",
      "Epoch :   500 | loss : 0.53045 | total_acc : 0.77499 | train_acc : 0.78559 | test_acc : 0.74944\n",
      "Epoch :   600 | loss : 0.51629 | total_acc : 0.79028 | train_acc : 0.80185 | test_acc : 0.76240\n",
      "Epoch :   700 | loss : 0.49866 | total_acc : 0.80871 | train_acc : 0.82091 | test_acc : 0.77931\n",
      "Epoch :   800 | loss : 0.48209 | total_acc : 0.82541 | train_acc : 0.83671 | test_acc : 0.79820\n",
      "Epoch :   900 | loss : 0.47480 | total_acc : 0.83484 | train_acc : 0.84525 | test_acc : 0.80975\n",
      "Epoch :  1000 | loss : 0.46972 | total_acc : 0.84004 | train_acc : 0.84934 | test_acc : 0.81764\n",
      "Epoch :  1100 | loss : 0.46472 | total_acc : 0.84451 | train_acc : 0.85191 | test_acc : 0.82666\n",
      "Epoch :  1200 | loss : 0.46142 | total_acc : 0.84922 | train_acc : 0.85601 | test_acc : 0.83286\n",
      "Epoch :  1300 | loss : 0.46053 | total_acc : 0.84930 | train_acc : 0.85624 | test_acc : 0.83258\n",
      "Epoch :  1400 | loss : 0.45922 | total_acc : 0.85095 | train_acc : 0.85753 | test_acc : 0.83512\n",
      "Epoch :  1500 | loss : 0.45789 | total_acc : 0.85170 | train_acc : 0.85858 | test_acc : 0.83512\n",
      "Epoch :  1600 | loss : 0.45678 | total_acc : 0.85335 | train_acc : 0.86092 | test_acc : 0.83512\n",
      "Epoch :  1700 | loss : 0.45709 | total_acc : 0.85352 | train_acc : 0.86115 | test_acc : 0.83512\n",
      "Epoch :  1800 | loss : 0.45605 | total_acc : 0.85467 | train_acc : 0.86279 | test_acc : 0.83512\n",
      "Epoch :  1900 | loss : 0.45456 | total_acc : 0.85616 | train_acc : 0.86384 | test_acc : 0.83766\n",
      "Epoch :  2000 | loss : 0.45369 | total_acc : 0.85707 | train_acc : 0.86607 | test_acc : 0.83540\n",
      "Epoch :  2100 | loss : 0.45409 | total_acc : 0.85649 | train_acc : 0.86536 | test_acc : 0.83512\n",
      "Epoch :  2200 | loss : 0.45253 | total_acc : 0.85806 | train_acc : 0.86724 | test_acc : 0.83596\n",
      "Epoch :  2300 | loss : 0.45182 | total_acc : 0.85947 | train_acc : 0.86712 | test_acc : 0.84104\n",
      "Epoch :  2400 | loss : 0.45120 | total_acc : 0.86054 | train_acc : 0.87016 | test_acc : 0.83737\n",
      "Epoch :  2500 | loss : 0.45086 | total_acc : 0.86046 | train_acc : 0.86747 | test_acc : 0.84357\n",
      "Epoch :  2600 | loss : 0.45069 | total_acc : 0.86104 | train_acc : 0.86770 | test_acc : 0.84498\n",
      "Epoch :  2700 | loss : 0.45066 | total_acc : 0.86137 | train_acc : 0.86794 | test_acc : 0.84555\n",
      "Epoch :  2800 | loss : 0.45058 | total_acc : 0.86038 | train_acc : 0.87004 | test_acc : 0.83709\n",
      "Epoch :  2900 | loss : 0.45000 | total_acc : 0.86112 | train_acc : 0.87110 | test_acc : 0.83709\n",
      "Epoch :  3000 | loss : 0.44964 | total_acc : 0.86178 | train_acc : 0.87180 | test_acc : 0.83766\n",
      "Epoch :  3100 | loss : 0.44931 | total_acc : 0.86203 | train_acc : 0.87227 | test_acc : 0.83737\n",
      "Epoch :  3200 | loss : 0.44898 | total_acc : 0.86245 | train_acc : 0.87297 | test_acc : 0.83709\n",
      "Epoch :  3300 | loss : 0.44867 | total_acc : 0.86286 | train_acc : 0.87308 | test_acc : 0.83822\n",
      "Epoch :  3400 | loss : 0.44836 | total_acc : 0.86335 | train_acc : 0.87367 | test_acc : 0.83850\n",
      "Epoch :  3500 | loss : 0.44807 | total_acc : 0.86435 | train_acc : 0.87449 | test_acc : 0.83991\n",
      "Epoch :  3600 | loss : 0.44782 | total_acc : 0.86476 | train_acc : 0.87496 | test_acc : 0.84019\n",
      "Epoch :  3700 | loss : 0.44758 | total_acc : 0.86517 | train_acc : 0.87542 | test_acc : 0.84047\n",
      "Epoch :  3800 | loss : 0.44733 | total_acc : 0.86550 | train_acc : 0.87554 | test_acc : 0.84132\n",
      "Epoch :  3900 | loss : 0.44709 | total_acc : 0.86583 | train_acc : 0.87566 | test_acc : 0.84216\n",
      "Epoch :  4000 | loss : 0.44687 | total_acc : 0.86608 | train_acc : 0.87577 | test_acc : 0.84273\n",
      "Epoch :  4100 | loss : 0.44669 | total_acc : 0.86608 | train_acc : 0.87577 | test_acc : 0.84273\n",
      "Epoch :  4200 | loss : 0.44661 | total_acc : 0.86650 | train_acc : 0.87624 | test_acc : 0.84301\n",
      "Epoch :  4300 | loss : 0.44530 | total_acc : 0.86782 | train_acc : 0.87718 | test_acc : 0.84526\n",
      "Epoch :  4400 | loss : 0.44527 | total_acc : 0.86774 | train_acc : 0.87718 | test_acc : 0.84498\n",
      "Epoch :  4500 | loss : 0.44576 | total_acc : 0.86765 | train_acc : 0.87776 | test_acc : 0.84329\n",
      "Epoch :  4600 | loss : 0.44500 | total_acc : 0.86790 | train_acc : 0.87718 | test_acc : 0.84555\n",
      "Epoch :  4700 | loss : 0.44612 | total_acc : 0.86575 | train_acc : 0.87461 | test_acc : 0.84442\n",
      "Epoch :  4800 | loss : 0.44802 | total_acc : 0.86327 | train_acc : 0.87262 | test_acc : 0.84076\n",
      "Epoch :  4900 | loss : 0.44509 | total_acc : 0.86815 | train_acc : 0.87800 | test_acc : 0.84442\n",
      "Epoch :  5000 | loss : 0.44480 | total_acc : 0.86823 | train_acc : 0.87823 | test_acc : 0.84414\n",
      "Epoch :  5100 | loss : 0.44487 | total_acc : 0.86856 | train_acc : 0.87882 | test_acc : 0.84386\n",
      "Epoch :  5200 | loss : 0.44447 | total_acc : 0.86856 | train_acc : 0.87811 | test_acc : 0.84555\n",
      "Epoch :  5300 | loss : 0.44449 | total_acc : 0.86856 | train_acc : 0.87835 | test_acc : 0.84498\n",
      "Epoch :  5400 | loss : 0.44449 | total_acc : 0.86881 | train_acc : 0.87905 | test_acc : 0.84414\n",
      "Epoch :  5500 | loss : 0.44583 | total_acc : 0.86625 | train_acc : 0.87531 | test_acc : 0.84442\n",
      "Epoch :  5600 | loss : 0.44525 | total_acc : 0.86732 | train_acc : 0.87776 | test_acc : 0.84216\n",
      "Epoch :  5700 | loss : 0.44432 | total_acc : 0.86898 | train_acc : 0.87928 | test_acc : 0.84414\n",
      "Epoch :  5800 | loss : 0.44595 | total_acc : 0.86658 | train_acc : 0.87519 | test_acc : 0.84583\n",
      "Epoch :  5900 | loss : 0.44409 | total_acc : 0.86898 | train_acc : 0.87928 | test_acc : 0.84414\n",
      "Epoch :  6000 | loss : 0.44472 | total_acc : 0.86831 | train_acc : 0.87893 | test_acc : 0.84273\n",
      "Epoch :  6100 | loss : 0.44519 | total_acc : 0.86724 | train_acc : 0.87624 | test_acc : 0.84555\n",
      "Epoch :  6200 | loss : 0.44411 | total_acc : 0.86881 | train_acc : 0.87858 | test_acc : 0.84526\n",
      "Epoch :  6300 | loss : 0.44463 | total_acc : 0.86831 | train_acc : 0.87893 | test_acc : 0.84273\n",
      "Epoch :  6400 | loss : 0.44389 | total_acc : 0.86906 | train_acc : 0.87928 | test_acc : 0.84442\n",
      "Epoch :  6500 | loss : 0.44444 | total_acc : 0.86807 | train_acc : 0.87730 | test_acc : 0.84583\n",
      "Epoch :  6600 | loss : 0.44348 | total_acc : 0.86964 | train_acc : 0.87987 | test_acc : 0.84498\n",
      "Epoch :  6700 | loss : 0.44407 | total_acc : 0.86906 | train_acc : 0.87975 | test_acc : 0.84329\n",
      "Epoch :  6800 | loss : 0.44517 | total_acc : 0.86757 | train_acc : 0.87765 | test_acc : 0.84329\n",
      "Epoch :  6900 | loss : 0.44352 | total_acc : 0.86914 | train_acc : 0.87928 | test_acc : 0.84470\n",
      "Epoch :  7000 | loss : 0.44357 | total_acc : 0.86955 | train_acc : 0.87975 | test_acc : 0.84498\n",
      "Epoch :  7100 | loss : 0.44362 | total_acc : 0.86914 | train_acc : 0.87975 | test_acc : 0.84357\n",
      "Epoch :  7200 | loss : 0.44349 | total_acc : 0.86964 | train_acc : 0.87964 | test_acc : 0.84555\n",
      "Epoch :  7300 | loss : 0.44380 | total_acc : 0.86881 | train_acc : 0.87940 | test_acc : 0.84329\n",
      "Epoch :  7400 | loss : 0.44604 | total_acc : 0.86658 | train_acc : 0.87659 | test_acc : 0.84245\n",
      "Epoch :  7500 | loss : 0.44417 | total_acc : 0.86889 | train_acc : 0.87765 | test_acc : 0.84780\n",
      "Epoch :  7600 | loss : 0.44550 | total_acc : 0.86707 | train_acc : 0.87730 | test_acc : 0.84245\n",
      "Epoch :  7700 | loss : 0.44327 | total_acc : 0.86989 | train_acc : 0.87952 | test_acc : 0.84667\n",
      "Epoch :  7800 | loss : 0.44386 | total_acc : 0.86955 | train_acc : 0.87847 | test_acc : 0.84808\n",
      "Epoch :  7900 | loss : 0.44346 | total_acc : 0.86947 | train_acc : 0.87905 | test_acc : 0.84639\n",
      "Epoch :  8000 | loss : 0.44347 | total_acc : 0.86922 | train_acc : 0.87893 | test_acc : 0.84583\n",
      "Epoch :  8100 | loss : 0.44297 | total_acc : 0.86997 | train_acc : 0.88034 | test_acc : 0.84498\n",
      "Epoch :  8200 | loss : 0.44329 | total_acc : 0.86947 | train_acc : 0.88010 | test_acc : 0.84386\n",
      "Epoch :  8300 | loss : 0.44306 | total_acc : 0.86980 | train_acc : 0.88010 | test_acc : 0.84498\n",
      "Epoch :  8400 | loss : 0.44308 | total_acc : 0.86972 | train_acc : 0.87917 | test_acc : 0.84696\n",
      "Epoch :  8500 | loss : 0.44337 | total_acc : 0.86989 | train_acc : 0.88034 | test_acc : 0.84470\n",
      "Epoch :  8600 | loss : 0.44293 | total_acc : 0.87005 | train_acc : 0.88034 | test_acc : 0.84526\n",
      "Epoch :  8700 | loss : 0.44315 | total_acc : 0.86931 | train_acc : 0.87928 | test_acc : 0.84526\n",
      "Epoch :  8800 | loss : 0.44264 | total_acc : 0.87046 | train_acc : 0.88080 | test_acc : 0.84555\n",
      "Epoch :  8900 | loss : 0.44710 | total_acc : 0.86484 | train_acc : 0.87367 | test_acc : 0.84357\n",
      "Epoch :  9000 | loss : 0.44274 | total_acc : 0.86997 | train_acc : 0.88034 | test_acc : 0.84498\n",
      "Epoch :  9100 | loss : 0.45491 | total_acc : 0.85757 | train_acc : 0.86174 | test_acc : 0.84752\n",
      "Epoch :  9200 | loss : 0.45054 | total_acc : 0.86121 | train_acc : 0.87004 | test_acc : 0.83991\n",
      "Epoch :  9300 | loss : 0.44257 | total_acc : 0.87030 | train_acc : 0.88045 | test_acc : 0.84583\n",
      "Epoch :  9400 | loss : 0.44314 | total_acc : 0.86972 | train_acc : 0.87823 | test_acc : 0.84921\n",
      "Epoch :  9500 | loss : 0.44428 | total_acc : 0.86848 | train_acc : 0.87905 | test_acc : 0.84301\n",
      "Epoch :  9600 | loss : 0.44253 | total_acc : 0.87038 | train_acc : 0.88057 | test_acc : 0.84583\n",
      "Epoch :  9700 | loss : 0.44441 | total_acc : 0.86807 | train_acc : 0.87811 | test_acc : 0.84386\n",
      "Epoch :  9800 | loss : 0.44468 | total_acc : 0.86807 | train_acc : 0.87858 | test_acc : 0.84273\n",
      "Epoch :  9900 | loss : 0.44954 | total_acc : 0.86319 | train_acc : 0.86724 | test_acc : 0.85344\n",
      "Epoch : 10000 | loss : 0.44423 | total_acc : 0.86856 | train_acc : 0.87940 | test_acc : 0.84245\n"
     ]
    }
   ],
   "source": [
    "from utils.model import model\n",
    "from utils.plot import plot\n",
    "from reciever import INPUT_SIZE\n",
    "from torch.utils.tensorboard import SummaryWriter\n",
    "# writer = SummaryWriter('./log')\n",
    "\n",
    "num_epochs =10000\n",
    "\n",
    "input_size=INPUT_SIZE\n",
    "output_size=2\n",
    "hidden_size=6\n",
    "num_layers=5\n",
    "\n",
    "lstm = model(input_size=input_size,output_size=output_size, hidden_size=hidden_size,num_layers=num_layers,device=device).to(device)\n",
    "# writer.add_graph(lstm,torch.randn(10,3,6).to(device))  # 可视化的计算图\n",
    "\n",
    "loss_function = torch.nn.CrossEntropyLoss().to(device)\n",
    "\n",
    "optimizer = optim.Adam(lstm.parameters(), lr=0.001)\n",
    "\n",
    "for epoch in range(num_epochs):\n",
    "    epoch+=1\n",
    "    prediction=lstm(train_features)\n",
    "    \n",
    "    trainY_one_hot=F.one_hot(train_labels.long()).float().squeeze()\n",
    "    loss = loss_function( prediction,trainY_one_hot)\n",
    "    optimizer.zero_grad()\n",
    "    loss.backward()\n",
    "    optimizer.step()\n",
    "\n",
    "    # writer.add_scalars('Loss',{\"Train\":loss.item()},epoch)\n",
    "\n",
    "    if epoch % 100 == 0:\n",
    "\n",
    "      lstm.eval()\n",
    "\n",
    "      total_prediction=lstm(total_features)\n",
    "      labels_one_hot=F.one_hot(total_labels.long()).float().squeeze()\n",
    "      loss =loss_function(total_prediction,labels_one_hot)\n",
    "\n",
    "      prediction_plot =total_prediction.cpu().detach().numpy().argmax(axis=1).reshape(-1,1)\n",
    "      labels_plot=total_labels.cpu().numpy()\n",
    "\n",
    "      total_accuracy,train_accuracy,test_accuracy=analyze(labels_plot, prediction_plot, total_train_size)\n",
    "\n",
    "      # writer.add_scalars('Loss',{\"Test\":loss.item()},epoch)\n",
    "      # writer.add_scalars('Acc', {\"Total\":total_accuracy,\n",
    "      #                                    \"Train\": train_accuracy,\n",
    "      #                                    \"Test\": test_accuracy}, epoch)\n",
    "      print(\"Epoch : %5d | loss : %1.5f | total_acc : %1.5f | train_acc : %1.5f | test_acc : %1.5f\" % (epoch, loss.item(),total_accuracy,train_accuracy,test_accuracy))\n",
    "\n",
    "      lstm.train()\n",
    "\n",
    "# writer.close()"
   ]
  },
  {
   "cell_type": "code",
   "execution_count": 22,
   "metadata": {},
   "outputs": [
    {
     "name": "stdout",
     "output_type": "stream",
     "text": [
      "10418 / 12097 = 0.861\n",
      "7500  / 8549  = 0.877\n",
      "2918  / 3548  = 0.822\n"
     ]
    },
    {
     "data": {
      "image/png": "[encoded data removed]",
      "text/plain": [
       "<Figure size 2880x468 with 1 Axes>"
      ]
     },
     "metadata": {
      "needs_background": "light"
     },
     "output_type": "display_data"
    }
   ],
   "source": [
    "lstm.eval()\n",
    "\n",
    "prediction = lstm(total_features)\n",
    "prediction_plot = prediction.cpu().detach().numpy().argmax(axis=1).reshape(-1,1)\n",
    "\n",
    "# lst=[]\n",
    "# THETA=0.9\n",
    "# weight_array=np.array([THETA**(i+1) for i in range(5)])\n",
    "# print(weight_array)\n",
    "# for i in range(3):\n",
    "    # print(i)\n",
    "\n",
    "labels_plot=total_labels.cpu().numpy()\n",
    "\n",
    "analyze(labels_plot, prediction_plot, total_train_size,need_print=True)\n",
    "plot(labels_plot,prediction_plot,total_train_size)"
   ]
  },
  {
   "cell_type": "code",
   "execution_count": 8,
   "metadata": {},
   "outputs": [],
   "source": [
    "import os\n",
    "if not os.path.exists('model'):\n",
    "    os.mkdir('./model')\n",
    "\n",
    "torch.save(lstm,'./model/lstm_neo_method.pkl')"
   ]
  },
  {
   "cell_type": "code",
   "execution_count": 24,
   "metadata": {},
   "outputs": [
    {
     "data": {
      "text/plain": [
       "model(\n",
       "  (lstm): LSTM(6, 6, num_layers=5, batch_first=True)\n",
       "  (fc1): Linear(in_features=6, out_features=16, bias=True)\n",
       "  (fc2): Linear(in_features=16, out_features=2, bias=True)\n",
       "  (softmax): Softmax(dim=-1)\n",
       ")"
      ]
     },
     "execution_count": 24,
     "metadata": {},
     "output_type": "execute_result"
    }
   ],
   "source": [
    "loaded_model=torch.load('model/lstm_neo_method.pkl')\n",
    "loaded_model"
   ]
  },
  {
   "cell_type": "code",
   "execution_count": 25,
   "metadata": {},
   "outputs": [
    {
     "data": {
      "image/png": "[encoded data removed]",
      "text/plain": [
       "<Figure size 432x288 with 1 Axes>"
      ]
     },
     "metadata": {
      "needs_background": "light"
     },
     "output_type": "display_data"
    }
   ],
   "source": [
    "from sklearn import metrics\n",
    "\n",
    "predictions=loaded_model(test_features)[:,1]\n",
    "\n",
    "fpr, tpr, thersholds = metrics.roc_curve(test_labels.cpu().detach().numpy(),predictions.cpu().detach().numpy())\n",
    "\n",
    "auc = metrics.auc(fpr, tpr)\n",
    "\n",
    "plt.plot(fpr, tpr, 'k--', label='ROC (area = {0:.3f})'.format(auc)) # ROC Curve\n",
    "plt.plot([0,1],[0,1],linestyle='--',color='grey') # diagonal\n",
    " \n",
    "plt.xlabel('False Positive Rate(FPR)')\n",
    "plt.ylabel('True Positive Rate(TPR)')\n",
    "plt.title('ROC Curve')\n",
    "plt.legend(loc=\"lower right\")\n",
    "plt.show()"
   ]
  },
  {
   "cell_type": "code",
   "execution_count": 26,
   "metadata": {},
   "outputs": [
    {
     "name": "stdout",
     "output_type": "stream",
     "text": [
      "metrics are as follows:\n",
      "      Accuracy: 0.8416009019165727\n",
      "     Precision: 0.846111417539989\n",
      "        recall: 0.8442487616951018\n",
      "            F1: 0.8451790633608814\n",
      "           AUC: 0.8857565765523443\n"
     ]
    }
   ],
   "source": [
    "predictions=loaded_model(test_features).argmax(axis=1)\n",
    "\n",
    "#calculate metrics of model\n",
    "acc = metrics.accuracy_score(test_labels.cpu().detach().numpy(),predictions.cpu().detach().numpy())\n",
    "precision = metrics.precision_score(test_labels.cpu().detach().numpy(),predictions.cpu().detach().numpy())\n",
    "recall = metrics.recall_score(test_labels.cpu().detach().numpy(),predictions.cpu().detach().numpy())\n",
    "f1 = metrics.f1_score(test_labels.cpu().detach().numpy(),predictions.cpu().detach().numpy())\n",
    "\n",
    "#print metrics\n",
    "print(\"metrics are as follows:\",end=\"\")\n",
    "print(\"\"\"\n",
    "      Accuracy: {}\n",
    "     Precision: {}\n",
    "        recall: {}\n",
    "            F1: {}\n",
    "           AUC: {}\"\"\"\n",
    "                .format(acc,precision,recall,f1,auc))"
   ]
  }
 ],
 "metadata": {
  "kernelspec": {
   "display_name": "Python 3.9.12 ('base')",
   "language": "python",
   "name": "python3"
  },
  "language_info": {
   "codemirror_mode": {
    "name": "ipython",
    "version": 3
   },
   "file_extension": ".py",
   "mimetype": "text/x-python",
   "name": "python",
   "nbconvert_exporter": "python",
   "pygments_lexer": "ipython3",
   "version": "3.9.12"
  },
  "vscode": {
   "interpreter": {
    "hash": "334d1ccce99de3279778a4e57dbe5a55b53694561bf5ccbdebafe3250c178cc2"
   }
  }
 },
 "nbformat": 4,
 "nbformat_minor": 2
}
