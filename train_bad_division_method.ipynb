{
 "cells": [
  {
   "cell_type": "code",
   "execution_count": 11,
   "metadata": {},
   "outputs": [],
   "source": [
    "import numpy as np\n",
    "import torch\n",
    "import torch.nn.functional as F\n",
    "import torch.optim as optim\n",
    "device = torch.device(\"cuda:0\" if torch.cuda.is_available() else \"cpu\")"
   ]
  },
  {
   "cell_type": "code",
   "execution_count": 12,
   "metadata": {},
   "outputs": [],
   "source": [
    "def guiyi(*fea):\n",
    "    fea_matrix=np.array(fea[0])\n",
    "    for f in fea:\n",
    "        f=(f-f.min())/(f.max()-f.min()).reshape(-1,1)\n",
    "        fea_matrix = np.hstack((fea_matrix,f))\n",
    "    \n",
    "    return fea_matrix[:,1:]"
   ]
  },
  {
   "cell_type": "code",
   "execution_count": 13,
   "metadata": {
    "tags": []
   },
   "outputs": [
    {
     "name": "stdout",
     "output_type": "stream",
     "text": [
      "8375\n"
     ]
    }
   ],
   "source": [
    "from utils.feature_extraction import find_peak_trough,feature_extraction\n",
    "from os import listdir\n",
    "from sklearn.preprocessing import MinMaxScaler\n",
    "scaler = MinMaxScaler()\n",
    "file_list = listdir('data')\n",
    "m = len(file_list)\n",
    "fea_matrix=np.empty([0,7])\n",
    "\n",
    "train_size=0\n",
    "\n",
    "for i in range(m):\n",
    "    if i %3 ==1:\n",
    "        continue\n",
    "    file_name = './data/'+file_list[i]\n",
    "    data = np.loadtxt(file_name, dtype=np.int16, skiprows=1)\n",
    "\n",
    "    peaks, troughs = find_peak_trough(data, 54)\n",
    "    f1, f2, f3, f4, f5, f8, f9, f10 = feature_extraction(\n",
    "        data, peaks, troughs)\n",
    "\n",
    "    if(i<int(0.7*m)):\n",
    "        train_size+=f1.shape[0]\n",
    "    \n",
    "    label=np.full((f1.shape[0],1),int(i%3>0)).reshape(-1,1) #  label=np.full((f1.shape[0],1), i%3).reshape(-1,1)\n",
    "\n",
    "    concated_matrix=np.hstack((f1,f3,f4,f5,f8,f9)) # 拼接起来的特征矩阵\n",
    "    concated_matrix=scaler.fit_transform(concated_matrix) # 经过归一化\n",
    "\n",
    "    # concated_matrix=guiyi(f1,f3,f4,f5,f8,f9) # 与上面两行同理\n",
    "\n",
    "    temp= np.hstack((concated_matrix,label)) # 特征-标签矩阵\n",
    "    fea_matrix=np.vstack((fea_matrix,temp))\n",
    "\n",
    "print(train_size)"
   ]
  },
  {
   "cell_type": "code",
   "execution_count": 14,
   "metadata": {},
   "outputs": [
    {
     "name": "stdout",
     "output_type": "stream",
     "text": [
      "len of  all  data  is : torch.Size([12229, 3, 6])\n",
      "len of  all  label is : torch.Size([12229])\n",
      "len of train data  is : torch.Size([8375, 3, 6])\n",
      "len of train label is : torch.Size([8375])\n"
     ]
    }
   ],
   "source": [
    "from utils.data_splitter import get_sequence\n",
    "from reciever import SEQ_LENGTH\n",
    "\n",
    "temporal_features , labels = get_sequence(data=fea_matrix, seq_length=SEQ_LENGTH,device=device,to_device=True)\n",
    "print(\"len of  all  data  is : {}\".format( temporal_features.shape )) \n",
    "print(\"len of  all  label is : {}\".format( labels.shape )) \n",
    "\n",
    "trainX = temporal_features[0:train_size]\n",
    "trainY = labels[0:train_size]\n",
    "print(\"len of train data  is : {}\".format( trainX.shape )) \n",
    "print(\"len of train label is : {}\".format( trainY.shape ))\n",
    "\n",
    "# testX = temporal_features[train_size:]\n",
    "# testY = labels[train_size:]\n",
    "# print(\"len of  test data  is : {}\".format( testX.shape )) \n",
    "# print(\"len of  test label is : {}\".format( testY.shape ))"
   ]
  },
  {
   "cell_type": "code",
   "execution_count": 21,
   "metadata": {},
   "outputs": [],
   "source": [
    "def analyze(labels,prediction,train_size,need_print=False):\n",
    "    total_size = labels.shape[0]\n",
    "    correct_prediction_in_train = sum(\n",
    "        prediction[0:train_size] == labels[0:train_size])  # 训练集上正确预测的样本数\n",
    "    correct_prediction_in_test = sum(\n",
    "        prediction[train_size:] == labels[train_size:])  # 测试集上正确预测的样本数\n",
    "    total_correct_prediction = correct_prediction_in_train + \\\n",
    "        correct_prediction_in_test  # 全体数据正确预测的样本数\n",
    "\n",
    "    total_accuracy=total_correct_prediction/total_size\n",
    "    train_accuracy=correct_prediction_in_train/train_size\n",
    "    test_accuracy=correct_prediction_in_test/(total_size-train_size)\n",
    "\n",
    "    if need_print:\n",
    "        print(\"%-5d / %-5d = %.3f\" % (total_correct_prediction, total_size, total_accuracy))\n",
    "        print(\"%-5d / %-5d = %.3f\" % (correct_prediction_in_train, train_size,train_accuracy ))\n",
    "        print(\"%-5d / %-5d = %.3f\" % (correct_prediction_in_test, total_size-train_size,test_accuracy ))\n",
    "\n",
    "    return total_accuracy,train_accuracy,test_accuracy"
   ]
  },
  {
   "cell_type": "code",
   "execution_count": 22,
   "metadata": {},
   "outputs": [
    {
     "name": "stdout",
     "output_type": "stream",
     "text": [
      "Epoch :   100 | loss : 0.69401 | total_acc : 0.48843 | train_acc : 0.51260 | test_acc : 0.43591\n",
      "Epoch :   200 | loss : 0.69337 | total_acc : 0.48843 | train_acc : 0.51260 | test_acc : 0.43591\n",
      "Epoch :   300 | loss : 0.64921 | total_acc : 0.64601 | train_acc : 0.65540 | test_acc : 0.62558\n",
      "Epoch :   400 | loss : 0.61456 | total_acc : 0.68190 | train_acc : 0.69278 | test_acc : 0.65828\n",
      "Epoch :   500 | loss : 0.61351 | total_acc : 0.68092 | train_acc : 0.69361 | test_acc : 0.65335\n",
      "Epoch :   600 | loss : 0.61308 | total_acc : 0.68125 | train_acc : 0.69887 | test_acc : 0.64297\n",
      "Epoch :   700 | loss : 0.62108 | total_acc : 0.65516 | train_acc : 0.71510 | test_acc : 0.52491\n",
      "Epoch :   800 | loss : 0.61878 | total_acc : 0.68051 | train_acc : 0.77122 | test_acc : 0.48339\n",
      "Epoch :   900 | loss : 0.60171 | total_acc : 0.70259 | train_acc : 0.79379 | test_acc : 0.50441\n",
      "Epoch :  1000 | loss : 0.58535 | total_acc : 0.71633 | train_acc : 0.80322 | test_acc : 0.52750\n",
      "Epoch :  1100 | loss : 0.56784 | total_acc : 0.73784 | train_acc : 0.81421 | test_acc : 0.57187\n",
      "Epoch :  1200 | loss : 0.55449 | total_acc : 0.75288 | train_acc : 0.82245 | test_acc : 0.60171\n",
      "Epoch :  1300 | loss : 0.54545 | total_acc : 0.76139 | train_acc : 0.82830 | test_acc : 0.61598\n",
      "Epoch :  1400 | loss : 0.53841 | total_acc : 0.76997 | train_acc : 0.83785 | test_acc : 0.62247\n",
      "Epoch :  1500 | loss : 0.53467 | total_acc : 0.77324 | train_acc : 0.84406 | test_acc : 0.61936\n",
      "Epoch :  1600 | loss : 0.53225 | total_acc : 0.77545 | train_acc : 0.85099 | test_acc : 0.61131\n",
      "Epoch :  1700 | loss : 0.52906 | total_acc : 0.77709 | train_acc : 0.85481 | test_acc : 0.60820\n",
      "Epoch :  1800 | loss : 0.52774 | total_acc : 0.77815 | train_acc : 0.86137 | test_acc : 0.59730\n",
      "Epoch :  1900 | loss : 0.52694 | total_acc : 0.78019 | train_acc : 0.86675 | test_acc : 0.59211\n",
      "Epoch :  2000 | loss : 0.52659 | total_acc : 0.77938 | train_acc : 0.87116 | test_acc : 0.57992\n",
      "Epoch :  2100 | loss : 0.52607 | total_acc : 0.78069 | train_acc : 0.87690 | test_acc : 0.57161\n",
      "Epoch :  2200 | loss : 0.52468 | total_acc : 0.78420 | train_acc : 0.88036 | test_acc : 0.57525\n",
      "Epoch :  2300 | loss : 0.52351 | total_acc : 0.78616 | train_acc : 0.88191 | test_acc : 0.57810\n",
      "Epoch :  2400 | loss : 0.52244 | total_acc : 0.78674 | train_acc : 0.88334 | test_acc : 0.57680\n",
      "Epoch :  2500 | loss : 0.52177 | total_acc : 0.78796 | train_acc : 0.88394 | test_acc : 0.57940\n",
      "Epoch :  2600 | loss : 0.52171 | total_acc : 0.78698 | train_acc : 0.88358 | test_acc : 0.57706\n",
      "Epoch :  2700 | loss : 0.52084 | total_acc : 0.78976 | train_acc : 0.88657 | test_acc : 0.57940\n",
      "Epoch :  2800 | loss : 0.52053 | total_acc : 0.78960 | train_acc : 0.88573 | test_acc : 0.58070\n",
      "Epoch :  2900 | loss : 0.52017 | total_acc : 0.79042 | train_acc : 0.88704 | test_acc : 0.58044\n",
      "Epoch :  3000 | loss : 0.51989 | total_acc : 0.79050 | train_acc : 0.88681 | test_acc : 0.58121\n",
      "Epoch :  3100 | loss : 0.51956 | total_acc : 0.79107 | train_acc : 0.88728 | test_acc : 0.58199\n",
      "Epoch :  3200 | loss : 0.51929 | total_acc : 0.79148 | train_acc : 0.88752 | test_acc : 0.58277\n",
      "Epoch :  3300 | loss : 0.51890 | total_acc : 0.79172 | train_acc : 0.88800 | test_acc : 0.58251\n",
      "Epoch :  3400 | loss : 0.51843 | total_acc : 0.79222 | train_acc : 0.88967 | test_acc : 0.58044\n",
      "Epoch :  3500 | loss : 0.51886 | total_acc : 0.79189 | train_acc : 0.89027 | test_acc : 0.57810\n",
      "Epoch :  3600 | loss : 0.51794 | total_acc : 0.79311 | train_acc : 0.88979 | test_acc : 0.58303\n",
      "Epoch :  3700 | loss : 0.51766 | total_acc : 0.79344 | train_acc : 0.89039 | test_acc : 0.58277\n",
      "Epoch :  3800 | loss : 0.51761 | total_acc : 0.79369 | train_acc : 0.89134 | test_acc : 0.58147\n",
      "Epoch :  3900 | loss : 0.51714 | total_acc : 0.79434 | train_acc : 0.89218 | test_acc : 0.58173\n",
      "Epoch :  4000 | loss : 0.51680 | total_acc : 0.79508 | train_acc : 0.89206 | test_acc : 0.58433\n",
      "Epoch :  4100 | loss : 0.51622 | total_acc : 0.79573 | train_acc : 0.89278 | test_acc : 0.58485\n",
      "Epoch :  4200 | loss : 0.51573 | total_acc : 0.79630 | train_acc : 0.89301 | test_acc : 0.58614\n",
      "Epoch :  4300 | loss : 0.51540 | total_acc : 0.79696 | train_acc : 0.89373 | test_acc : 0.58666\n",
      "Epoch :  4400 | loss : 0.51519 | total_acc : 0.79737 | train_acc : 0.89397 | test_acc : 0.58744\n",
      "Epoch :  4500 | loss : 0.51527 | total_acc : 0.79696 | train_acc : 0.89397 | test_acc : 0.58614\n",
      "Epoch :  4600 | loss : 0.51548 | total_acc : 0.79663 | train_acc : 0.89433 | test_acc : 0.58433\n",
      "Epoch :  4700 | loss : 0.51514 | total_acc : 0.79663 | train_acc : 0.89457 | test_acc : 0.58381\n",
      "Epoch :  4800 | loss : 0.51506 | total_acc : 0.79630 | train_acc : 0.89445 | test_acc : 0.58303\n",
      "Epoch :  4900 | loss : 0.51501 | total_acc : 0.79671 | train_acc : 0.89528 | test_acc : 0.58251\n",
      "Epoch :  5000 | loss : 0.51523 | total_acc : 0.79704 | train_acc : 0.89552 | test_acc : 0.58303\n"
     ]
    }
   ],
   "source": [
    "from utils.model import model\n",
    "from utils.plot import plot\n",
    "from reciever import INPUT_SIZE\n",
    "from torch.utils.tensorboard import SummaryWriter\n",
    "# writer = SummaryWriter('./log')\n",
    "\n",
    "num_epochs =5000\n",
    "\n",
    "input_size=INPUT_SIZE\n",
    "output_size=2\n",
    "hidden_size=5\n",
    "num_layers=4\n",
    "\n",
    "lstm = model(input_size=input_size,output_size=output_size, hidden_size=hidden_size,num_layers=num_layers,device=device).to(device)\n",
    "\n",
    "loss_function = torch.nn.CrossEntropyLoss().to(device)\n",
    "\n",
    "optimizer = optim.Adam(lstm.parameters(), lr=0.0005)\n",
    "\n",
    "for epoch in range(num_epochs):\n",
    "    epoch+=1\n",
    "    # torch.manual_seed(epoch)\n",
    "    prediction=lstm(trainX)\n",
    "    \n",
    "    trainY_one_hot=F.one_hot(trainY.long()).float()\n",
    "    loss = loss_function(prediction,trainY_one_hot)\n",
    "    optimizer.zero_grad()\n",
    "    loss.backward()\n",
    "    optimizer.step()\n",
    "\n",
    "    # writer.add_scalar('Loss/Train',loss.item() ,epoch)\n",
    "\n",
    "    if epoch % 100 == 0:\n",
    "\n",
    "      lstm.eval()\n",
    "      prediction = lstm(temporal_features)\n",
    "      labels_one_hot=F.one_hot(labels.long()).float()\n",
    "      loss =loss_function(prediction,labels_one_hot)\n",
    "      # writer.add_scalar('Loss/Test',loss.item() ,epoch)\n",
    "\n",
    "      prediction_plot = prediction.cpu().detach().numpy().argmax(axis=1)\n",
    "      labels_plot=labels.cpu().numpy()\n",
    "\n",
    "      # plot(labels_plot,prediction_plot,train_size)\n",
    "      total_accuracy,train_accuracy,test_accuracy=analyze(labels_plot, prediction_plot, train_size,need_print=False)\n",
    "\n",
    "      # writer.add_scalar('Acc/Total',total_accuracy ,epoch)\n",
    "      # writer.add_scalar('Acc/Train',train_accuracy ,epoch)\n",
    "      # writer.add_scalar('Acc/Test', test_accuracy, epoch)\n",
    "      print(\"Epoch : %5d | loss : %1.5f | total_acc : %1.5f | train_acc : %1.5f | test_acc : %1.5f\" % (epoch, loss.item(),total_accuracy,train_accuracy,test_accuracy))\n",
    "\n",
    "      lstm.train()\n"
   ]
  },
  {
   "cell_type": "code",
   "execution_count": 26,
   "metadata": {},
   "outputs": [
    {
     "name": "stdout",
     "output_type": "stream",
     "text": [
      "9747  / 12229 = 0.797\n",
      "7500  / 8375  = 0.896\n",
      "2247  / 3854  = 0.583\n"
     ]
    },
    {
     "data": {
      "image/png": "[encoded data removed]",
      "text/plain": [
       "<Figure size 2880x468 with 1 Axes>"
      ]
     },
     "metadata": {
      "needs_background": "light"
     },
     "output_type": "display_data"
    }
   ],
   "source": [
    "lstm.eval()\n",
    "\n",
    "prediction = lstm(temporal_features)\n",
    "prediction_plot = prediction.cpu().detach().numpy().argmax(axis=1)\n",
    "\n",
    "# lst=[]\n",
    "# THETA=0.9\n",
    "# weight_array=np.array([THETA**(i+1) for i in range(5)])\n",
    "# print(weight_array)\n",
    "# for i in range(3):\n",
    "    # print(i)\n",
    "\n",
    "labels_plot=labels.cpu().numpy()\n",
    "\n",
    "analyze(labels_plot, prediction_plot, train_size,need_print=True)\n",
    "plot(labels_plot,prediction_plot,train_size)"
   ]
  },
  {
   "cell_type": "code",
   "execution_count": 55,
   "metadata": {},
   "outputs": [],
   "source": [
    "import os\n",
    "if not os.path.exists('model'):\n",
    "    os.mkdir('./model')\n",
    "\n",
    "torch.save(lstm,'./model/lstm.pkl')"
   ]
  },
  {
   "cell_type": "code",
   "execution_count": 10,
   "metadata": {},
   "outputs": [
    {
     "data": {
      "text/plain": [
       "model(\n",
       "  (lstm): LSTM(6, 5, num_layers=4, batch_first=True)\n",
       "  (fc1): Linear(in_features=5, out_features=8, bias=True)\n",
       "  (fc2): Linear(in_features=8, out_features=2, bias=True)\n",
       "  (softmax): Softmax(dim=-1)\n",
       ")"
      ]
     },
     "execution_count": 10,
     "metadata": {},
     "output_type": "execute_result"
    }
   ],
   "source": [
    "jgh=torch.load('model/lstm.pkl')\n",
    "jgh"
   ]
  }
 ],
 "metadata": {
  "kernelspec": {
   "display_name": "Python 3.9.12 ('base')",
   "language": "python",
   "name": "python3"
  },
  "language_info": {
   "codemirror_mode": {
    "name": "ipython",
    "version": 3
   },
   "file_extension": ".py",
   "mimetype": "text/x-python",
   "name": "python",
   "nbconvert_exporter": "python",
   "pygments_lexer": "ipython3",
   "version": "3.9.12"
  },
  "vscode": {
   "interpreter": {
    "hash": "334d1ccce99de3279778a4e57dbe5a55b53694561bf5ccbdebafe3250c178cc2"
   }
  }
 },
 "nbformat": 4,
 "nbformat_minor": 2
}
